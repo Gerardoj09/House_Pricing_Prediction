{
 "cells": [
  {
   "cell_type": "code",
   "execution_count": 1,
   "metadata": {},
   "outputs": [],
   "source": [
    "import pandas as pd\n",
    "from sklearn.linear_model import LinearRegression\n",
    "from sklearn.model_selection import train_test_split\n",
    "from sklearn.linear_model import LinearRegression\n",
    "import numpy as np\n",
    "from sklearn.preprocessing import StandardScaler\n",
    "from sklearn.metrics import mean_squared_error, r2_score"
   ]
  },
  {
   "cell_type": "code",
   "execution_count": 2,
   "metadata": {},
   "outputs": [],
   "source": [
    "df= pd.read_csv('df_ETL.csv')\n"
   ]
  },
  {
   "cell_type": "markdown",
   "metadata": {},
   "source": [
    "The first thing is to return the datasets to the way they were before cleaning to be able to work on them separately."
   ]
  },
  {
   "cell_type": "code",
   "execution_count": 3,
   "metadata": {},
   "outputs": [
    {
     "data": {
      "text/plain": [
       "(1460, 80)"
      ]
     },
     "execution_count": 3,
     "metadata": {},
     "output_type": "execute_result"
    }
   ],
   "source": [
    "df.shape"
   ]
  },
  {
   "cell_type": "code",
   "execution_count": 4,
   "metadata": {},
   "outputs": [
    {
     "data": {
      "text/html": [
       "<div>\n",
       "<style scoped>\n",
       "    .dataframe tbody tr th:only-of-type {\n",
       "        vertical-align: middle;\n",
       "    }\n",
       "\n",
       "    .dataframe tbody tr th {\n",
       "        vertical-align: top;\n",
       "    }\n",
       "\n",
       "    .dataframe thead th {\n",
       "        text-align: right;\n",
       "    }\n",
       "</style>\n",
       "<table border=\"1\" class=\"dataframe\">\n",
       "  <thead>\n",
       "    <tr style=\"text-align: right;\">\n",
       "      <th></th>\n",
       "      <th>OverallQual</th>\n",
       "      <th>YearBuilt</th>\n",
       "      <th>YearRemodAdd</th>\n",
       "      <th>MasVnrArea</th>\n",
       "      <th>ExterCond</th>\n",
       "      <th>BsmtQual</th>\n",
       "      <th>TotalBsmtSF</th>\n",
       "      <th>HeatingQC</th>\n",
       "      <th>FirstFlrSF</th>\n",
       "      <th>GrLivArea</th>\n",
       "      <th>...</th>\n",
       "      <th>Fence_GdWo</th>\n",
       "      <th>Fence_MnPrv</th>\n",
       "      <th>Fence_MnWw</th>\n",
       "      <th>Fence_NFe</th>\n",
       "      <th>Foundation_BrkTil</th>\n",
       "      <th>Foundation_CBlock</th>\n",
       "      <th>Foundation_PConc</th>\n",
       "      <th>Foundation_Slab</th>\n",
       "      <th>Foundation_Stone</th>\n",
       "      <th>Foundation_Wood</th>\n",
       "    </tr>\n",
       "  </thead>\n",
       "  <tbody>\n",
       "    <tr>\n",
       "      <th>0</th>\n",
       "      <td>7</td>\n",
       "      <td>2003</td>\n",
       "      <td>2003</td>\n",
       "      <td>5.283204</td>\n",
       "      <td>3</td>\n",
       "      <td>4</td>\n",
       "      <td>856.0</td>\n",
       "      <td>5</td>\n",
       "      <td>6.753438</td>\n",
       "      <td>7.444833</td>\n",
       "      <td>...</td>\n",
       "      <td>0</td>\n",
       "      <td>0</td>\n",
       "      <td>0</td>\n",
       "      <td>1</td>\n",
       "      <td>0</td>\n",
       "      <td>0</td>\n",
       "      <td>1</td>\n",
       "      <td>0</td>\n",
       "      <td>0</td>\n",
       "      <td>0</td>\n",
       "    </tr>\n",
       "    <tr>\n",
       "      <th>1</th>\n",
       "      <td>6</td>\n",
       "      <td>1976</td>\n",
       "      <td>1976</td>\n",
       "      <td>0.000000</td>\n",
       "      <td>3</td>\n",
       "      <td>4</td>\n",
       "      <td>1262.0</td>\n",
       "      <td>5</td>\n",
       "      <td>7.141245</td>\n",
       "      <td>7.141245</td>\n",
       "      <td>...</td>\n",
       "      <td>0</td>\n",
       "      <td>0</td>\n",
       "      <td>0</td>\n",
       "      <td>1</td>\n",
       "      <td>0</td>\n",
       "      <td>1</td>\n",
       "      <td>0</td>\n",
       "      <td>0</td>\n",
       "      <td>0</td>\n",
       "      <td>0</td>\n",
       "    </tr>\n",
       "    <tr>\n",
       "      <th>2</th>\n",
       "      <td>7</td>\n",
       "      <td>2001</td>\n",
       "      <td>2002</td>\n",
       "      <td>5.093750</td>\n",
       "      <td>3</td>\n",
       "      <td>4</td>\n",
       "      <td>920.0</td>\n",
       "      <td>5</td>\n",
       "      <td>6.825460</td>\n",
       "      <td>7.488294</td>\n",
       "      <td>...</td>\n",
       "      <td>0</td>\n",
       "      <td>0</td>\n",
       "      <td>0</td>\n",
       "      <td>1</td>\n",
       "      <td>0</td>\n",
       "      <td>0</td>\n",
       "      <td>1</td>\n",
       "      <td>0</td>\n",
       "      <td>0</td>\n",
       "      <td>0</td>\n",
       "    </tr>\n",
       "    <tr>\n",
       "      <th>3</th>\n",
       "      <td>7</td>\n",
       "      <td>1915</td>\n",
       "      <td>1970</td>\n",
       "      <td>0.000000</td>\n",
       "      <td>3</td>\n",
       "      <td>3</td>\n",
       "      <td>756.0</td>\n",
       "      <td>4</td>\n",
       "      <td>6.869014</td>\n",
       "      <td>7.448916</td>\n",
       "      <td>...</td>\n",
       "      <td>0</td>\n",
       "      <td>0</td>\n",
       "      <td>0</td>\n",
       "      <td>1</td>\n",
       "      <td>1</td>\n",
       "      <td>0</td>\n",
       "      <td>0</td>\n",
       "      <td>0</td>\n",
       "      <td>0</td>\n",
       "      <td>0</td>\n",
       "    </tr>\n",
       "    <tr>\n",
       "      <th>4</th>\n",
       "      <td>8</td>\n",
       "      <td>2000</td>\n",
       "      <td>2000</td>\n",
       "      <td>5.860786</td>\n",
       "      <td>3</td>\n",
       "      <td>4</td>\n",
       "      <td>1145.0</td>\n",
       "      <td>5</td>\n",
       "      <td>7.044033</td>\n",
       "      <td>7.695758</td>\n",
       "      <td>...</td>\n",
       "      <td>0</td>\n",
       "      <td>0</td>\n",
       "      <td>0</td>\n",
       "      <td>1</td>\n",
       "      <td>0</td>\n",
       "      <td>0</td>\n",
       "      <td>1</td>\n",
       "      <td>0</td>\n",
       "      <td>0</td>\n",
       "      <td>0</td>\n",
       "    </tr>\n",
       "  </tbody>\n",
       "</table>\n",
       "<p>5 rows × 80 columns</p>\n",
       "</div>"
      ],
      "text/plain": [
       "   OverallQual  YearBuilt  YearRemodAdd  MasVnrArea  ExterCond  BsmtQual  \\\n",
       "0            7       2003          2003    5.283204          3         4   \n",
       "1            6       1976          1976    0.000000          3         4   \n",
       "2            7       2001          2002    5.093750          3         4   \n",
       "3            7       1915          1970    0.000000          3         3   \n",
       "4            8       2000          2000    5.860786          3         4   \n",
       "\n",
       "   TotalBsmtSF  HeatingQC  FirstFlrSF  GrLivArea  ...  Fence_GdWo  \\\n",
       "0        856.0          5    6.753438   7.444833  ...           0   \n",
       "1       1262.0          5    7.141245   7.141245  ...           0   \n",
       "2        920.0          5    6.825460   7.488294  ...           0   \n",
       "3        756.0          4    6.869014   7.448916  ...           0   \n",
       "4       1145.0          5    7.044033   7.695758  ...           0   \n",
       "\n",
       "   Fence_MnPrv  Fence_MnWw  Fence_NFe  Foundation_BrkTil  Foundation_CBlock  \\\n",
       "0            0           0          1                  0                  0   \n",
       "1            0           0          1                  0                  1   \n",
       "2            0           0          1                  0                  0   \n",
       "3            0           0          1                  1                  0   \n",
       "4            0           0          1                  0                  0   \n",
       "\n",
       "   Foundation_PConc  Foundation_Slab  Foundation_Stone  Foundation_Wood  \n",
       "0                 1                0                 0                0  \n",
       "1                 0                0                 0                0  \n",
       "2                 1                0                 0                0  \n",
       "3                 0                0                 0                0  \n",
       "4                 1                0                 0                0  \n",
       "\n",
       "[5 rows x 80 columns]"
      ]
     },
     "execution_count": 4,
     "metadata": {},
     "output_type": "execute_result"
    }
   ],
   "source": [
    "df.head()"
   ]
  },
  {
   "cell_type": "markdown",
   "metadata": {},
   "source": [
    "\n",
    "Now we will split our  dataset again to have separeted the training set with the testing set"
   ]
  },
  {
   "cell_type": "code",
   "execution_count": 5,
   "metadata": {},
   "outputs": [
    {
     "data": {
      "text/plain": [
       "Index(['OverallQual', 'YearBuilt', 'YearRemodAdd', 'MasVnrArea', 'ExterCond',\n",
       "       'BsmtQual', 'TotalBsmtSF', 'HeatingQC', 'FirstFlrSF', 'GrLivArea',\n",
       "       'FullBath', 'KitchenQual', 'TotRmsAbvGrd', 'Fireplaces', 'FireplaceQu',\n",
       "       'GarageYrBlt', 'GarageCars', 'GarageArea', 'SalePrice',\n",
       "       'MSZoning_C (all)', 'MSZoning_FV', 'MSZoning_RH', 'MSZoning_RL',\n",
       "       'MSZoning_RM', 'Neighborhood_Blmngtn', 'Neighborhood_Blueste',\n",
       "       'Neighborhood_BrDale', 'Neighborhood_BrkSide', 'Neighborhood_ClearCr',\n",
       "       'Neighborhood_CollgCr', 'Neighborhood_Crawfor', 'Neighborhood_Edwards',\n",
       "       'Neighborhood_Gilbert', 'Neighborhood_IDOTRR', 'Neighborhood_MeadowV',\n",
       "       'Neighborhood_Mitchel', 'Neighborhood_NAmes', 'Neighborhood_NPkVill',\n",
       "       'Neighborhood_NWAmes', 'Neighborhood_NoRidge', 'Neighborhood_NridgHt',\n",
       "       'Neighborhood_OldTown', 'Neighborhood_SWISU', 'Neighborhood_Sawyer',\n",
       "       'Neighborhood_SawyerW', 'Neighborhood_Somerst', 'Neighborhood_StoneBr',\n",
       "       'Neighborhood_Timber', 'Neighborhood_Veenker', 'HouseStyle_1.5Fin',\n",
       "       'HouseStyle_1.5Unf', 'HouseStyle_1Story', 'HouseStyle_2.5Fin',\n",
       "       'HouseStyle_2.5Unf', 'HouseStyle_2Story', 'HouseStyle_SFoyer',\n",
       "       'HouseStyle_SLvl', 'MasVnrType_BrkCmn', 'MasVnrType_BrkFace',\n",
       "       'MasVnrType_NMvt', 'MasVnrType_None', 'MasVnrType_Stone',\n",
       "       'Functional_Maj1', 'Functional_Maj2', 'Functional_Min1',\n",
       "       'Functional_Min2', 'Functional_Mod', 'Functional_Sev', 'Functional_Typ',\n",
       "       'Fence_GdPrv', 'Fence_GdWo', 'Fence_MnPrv', 'Fence_MnWw', 'Fence_NFe',\n",
       "       'Foundation_BrkTil', 'Foundation_CBlock', 'Foundation_PConc',\n",
       "       'Foundation_Slab', 'Foundation_Stone', 'Foundation_Wood'],\n",
       "      dtype='object')"
      ]
     },
     "execution_count": 5,
     "metadata": {},
     "output_type": "execute_result"
    }
   ],
   "source": [
    "df.columns"
   ]
  },
  {
   "cell_type": "code",
   "execution_count": 6,
   "metadata": {},
   "outputs": [],
   "source": [
    "df = df[['OverallQual', 'YearBuilt', 'YearRemodAdd', 'GrLivArea','GarageCars', 'GarageArea','SalePrice']]"
   ]
  },
  {
   "cell_type": "code",
   "execution_count": 7,
   "metadata": {},
   "outputs": [],
   "source": [
    "y = df.SalePrice\n",
    "X = df.drop(columns = 'SalePrice')"
   ]
  },
  {
   "cell_type": "code",
   "execution_count": 8,
   "metadata": {},
   "outputs": [],
   "source": [
    "X_train, X_test, y_train, y_test = train_test_split(X,y,test_size=0.20, shuffle  = True)"
   ]
  },
  {
   "cell_type": "code",
   "execution_count": 9,
   "metadata": {},
   "outputs": [],
   "source": [
    "# Creating a StandardScaler instance.\n",
    "scaler = StandardScaler()\n",
    "\n",
    "# Fitting the Standard Scaler with the training data.\n",
    "X_scaler = scaler.fit(X_train)\n",
    "\n",
    "# Scaling the data.\n",
    "X_train_scaled = X_scaler.transform(X_train)\n",
    "X_test_scaled = X_scaler.transform(X_test)"
   ]
  },
  {
   "cell_type": "code",
   "execution_count": 10,
   "metadata": {},
   "outputs": [
    {
     "data": {
      "text/plain": [
       "LinearRegression()"
      ]
     },
     "execution_count": 10,
     "metadata": {},
     "output_type": "execute_result"
    }
   ],
   "source": [
    "model = LinearRegression()\n",
    "model.fit(X_train_scaled, y_train)"
   ]
  },
  {
   "cell_type": "code",
   "execution_count": 11,
   "metadata": {},
   "outputs": [
    {
     "data": {
      "text/plain": [
       "array([12.31371549, 12.04291524, 11.67245499, 12.14541527, 12.18654515,\n",
       "       12.05740127, 12.24798368, 11.77098619, 12.65747775, 12.47677618,\n",
       "       11.51202489, 11.83240287, 11.92201683, 12.4007606 , 12.27653221,\n",
       "       11.82092723, 11.76686333, 11.72404925, 12.24819811, 11.72616313,\n",
       "       11.80820603, 11.96103192, 12.22627539, 11.97339421, 11.67090743,\n",
       "       11.77345853, 12.81767013, 11.47435162, 12.18492234, 12.07901806,\n",
       "       11.80697017, 12.27214557, 12.19369112, 11.8394484 , 11.65811596,\n",
       "       12.60188964, 11.68650149, 12.41626635, 12.33569475, 12.56251379,\n",
       "       12.50172761, 11.69507771, 11.82759294, 11.73565074, 12.15276059,\n",
       "       11.85571682, 11.86281065, 12.26611642, 12.13067998, 12.43518302,\n",
       "       11.65643954, 11.98407218, 12.3381809 , 12.27377269, 12.01257449,\n",
       "       12.15276943, 11.74205419, 12.46816086, 11.47730337, 11.48370191,\n",
       "       12.84509418, 11.87269658, 11.73870451, 12.17450188, 12.0969544 ,\n",
       "       11.75850673, 11.82818119, 12.01976608, 12.03656604, 12.17122359,\n",
       "       11.75056981, 12.2150312 , 12.01787436, 11.56905557, 12.41643673,\n",
       "       12.31529351, 12.1891746 , 12.03665722, 12.31066118, 12.29738215,\n",
       "       12.35798742, 12.60521072, 11.98562758, 11.75638302, 12.11275222,\n",
       "       11.77480626, 11.84084998, 12.36113514, 11.78846649, 11.96966486,\n",
       "       12.58314285, 12.17654229, 12.34455586, 12.08768936, 12.22757666,\n",
       "       11.50448408, 12.1931709 , 12.17223347, 12.79935348, 12.34927215,\n",
       "       11.78453868, 12.07881322, 11.8431762 , 12.45989369, 12.47301697,\n",
       "       11.68369357, 11.60291591, 12.01248165, 11.94269064, 11.69871488,\n",
       "       12.20873422, 11.88239962, 12.10184648, 12.52532533, 12.17277326,\n",
       "       12.05274404, 12.73399907, 11.68715229, 12.1907913 , 12.24366168,\n",
       "       11.7434375 , 12.60978336, 11.87717624, 11.70962275, 11.58624043,\n",
       "       11.68035861, 11.80313215, 11.76827649, 11.62828194, 11.77765559,\n",
       "       12.51999726, 12.2201156 , 11.77763604, 12.25588364, 12.27268365,\n",
       "       12.26600893, 12.5640785 , 12.35376337, 11.36118814, 11.68458062,\n",
       "       12.47095097, 12.0226236 , 11.90426138, 12.29853711, 12.45580713,\n",
       "       11.87663099, 12.49507986, 12.60850325, 12.41000623, 12.12204414,\n",
       "       12.14472294, 12.1627909 , 11.93583828, 11.73978706, 12.12715724,\n",
       "       12.13739221, 11.8269196 , 11.91820324, 12.47512788, 12.02491638,\n",
       "       12.17241998, 12.2388422 , 11.66592379, 11.65984839, 11.81162784,\n",
       "       12.23389435, 12.50418327, 11.87120682, 11.85473032, 11.83419624,\n",
       "       11.01671688, 12.05860617, 12.1530912 , 12.26651391, 12.2944254 ,\n",
       "       12.39147444, 12.09392216, 11.80646016, 11.62012622, 11.50424721,\n",
       "       11.905816  , 12.07888915, 12.31761698, 12.16902949, 12.14827213,\n",
       "       11.90051469, 11.78089551, 11.99991484, 12.30673259, 11.61662967,\n",
       "       12.21220953, 11.75959362, 12.4857203 , 12.0498713 , 12.10178203,\n",
       "       12.29210253, 11.91925816, 11.50382018, 11.95251271, 12.64215511,\n",
       "       11.7745691 , 11.8148156 , 12.07634615, 12.0300873 , 11.58290286,\n",
       "       11.98546455, 12.389863  , 12.13547132, 11.83713568, 12.35875833,\n",
       "       12.71039897, 11.95196329, 12.48177073, 12.26427478, 11.73134135,\n",
       "       12.01237325, 11.80951737, 11.71333513, 11.91594656, 11.9550369 ,\n",
       "       12.01836539, 11.87628304, 11.64201324, 11.6239652 , 12.39920787,\n",
       "       12.60090025, 12.23268198, 11.98716604, 11.65871162, 12.28905565,\n",
       "       12.1861446 , 12.60143317, 11.68478153, 12.37832985, 11.68315758,\n",
       "       11.83901837, 12.25785196, 12.63524683, 11.80776971, 12.23926359,\n",
       "       11.64192802, 12.15189616, 11.97312617, 11.56585432, 11.79832857,\n",
       "       11.83868316, 12.34670976, 11.84413234, 11.91831334, 12.0515532 ,\n",
       "       11.89447363, 11.68445531, 11.90335478, 11.66132263, 11.71937047,\n",
       "       11.8839541 , 12.48972672, 11.69531455, 12.14256345, 11.62119977,\n",
       "       12.53469781, 11.82740467, 12.27094005, 11.82655497, 12.25426981,\n",
       "       12.00839828, 12.25582936, 12.79979567, 12.12167225, 12.77992343,\n",
       "       11.75963884, 11.69163498, 11.99393072, 11.62889942, 11.80076639,\n",
       "       12.23848199, 11.88325942, 11.7930484 , 12.00382168, 12.4822489 ,\n",
       "       12.04533431, 12.21330573, 11.97073509, 11.52313201, 11.65263092,\n",
       "       11.82438201, 12.19135046, 12.24208625, 12.13554495, 11.73070505,\n",
       "       11.77632846, 11.61510944])"
      ]
     },
     "execution_count": 11,
     "metadata": {},
     "output_type": "execute_result"
    }
   ],
   "source": [
    "y_prediction = model.predict(X_test_scaled)\n",
    "y_prediction"
   ]
  },
  {
   "cell_type": "code",
   "execution_count": 12,
   "metadata": {},
   "outputs": [
    {
     "data": {
      "text/plain": [
       "0.030514567277490356"
      ]
     },
     "execution_count": 12,
     "metadata": {},
     "output_type": "execute_result"
    }
   ],
   "source": [
    "mean_squared_error(y_test, y_prediction)"
   ]
  },
  {
   "cell_type": "code",
   "execution_count": 13,
   "metadata": {},
   "outputs": [
    {
     "data": {
      "text/plain": [
       "0.7722908846246422"
      ]
     },
     "execution_count": 13,
     "metadata": {},
     "output_type": "execute_result"
    }
   ],
   "source": [
    "r2_score(y_test, y_prediction)"
   ]
  }
 ],
 "metadata": {
  "kernelspec": {
   "display_name": "mlenv",
   "language": "python",
   "name": "mlenv"
  },
  "language_info": {
   "codemirror_mode": {
    "name": "ipython",
    "version": 3
   },
   "file_extension": ".py",
   "mimetype": "text/x-python",
   "name": "python",
   "nbconvert_exporter": "python",
   "pygments_lexer": "ipython3",
   "version": "3.7.11"
  }
 },
 "nbformat": 4,
 "nbformat_minor": 5
}
