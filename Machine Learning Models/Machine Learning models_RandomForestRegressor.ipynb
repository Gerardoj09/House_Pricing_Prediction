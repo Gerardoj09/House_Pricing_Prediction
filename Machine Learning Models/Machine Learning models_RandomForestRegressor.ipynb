{
 "cells": [
  {
   "cell_type": "code",
   "execution_count": 1,
   "id": "a77633b2",
   "metadata": {},
   "outputs": [],
   "source": [
    "import pandas as pd\n",
    "from sklearn.linear_model import LinearRegression\n",
    "from sklearn.model_selection import train_test_split\n",
    "from sklearn.ensemble import RandomForestRegressor\n",
    "import numpy as np\n",
    "from sklearn.preprocessing import StandardScaler\n",
    "from sklearn.metrics import mean_squared_error, r2_score"
   ]
  },
  {
   "cell_type": "code",
   "execution_count": 2,
   "id": "f8a5f124",
   "metadata": {},
   "outputs": [],
   "source": [
    "df= pd.read_csv('../Resources/df_ETL.csv')\n"
   ]
  },
  {
   "cell_type": "markdown",
   "id": "22f087bd",
   "metadata": {},
   "source": [
    "The first thing is to return the datasets to the way they were before cleaning to be able to work on them separately."
   ]
  },
  {
   "cell_type": "code",
   "execution_count": 3,
   "id": "3206f403",
   "metadata": {},
   "outputs": [
    {
     "data": {
      "text/plain": [
       "(1460, 80)"
      ]
     },
     "execution_count": 3,
     "metadata": {},
     "output_type": "execute_result"
    }
   ],
   "source": [
    "df.shape"
   ]
  },
  {
   "cell_type": "markdown",
   "id": "7d6073cc",
   "metadata": {},
   "source": [
    "Now we will split our  dataset again to have separeted the training set with the testing set"
   ]
  },
  {
   "cell_type": "code",
   "execution_count": 4,
   "id": "908b2cf3",
   "metadata": {},
   "outputs": [],
   "source": [
    "y = df.SalePrice\n",
    "X = df.drop(columns = 'SalePrice')"
   ]
  },
  {
   "cell_type": "code",
   "execution_count": 5,
   "id": "630e74ba",
   "metadata": {},
   "outputs": [],
   "source": [
    "X_train, X_test, y_train, y_test = train_test_split(X,y,test_size=0.20, shuffle = True)"
   ]
  },
  {
   "cell_type": "code",
   "execution_count": 6,
   "id": "97d86574",
   "metadata": {},
   "outputs": [],
   "source": [
    "#Creating the model\n",
    "RFR = RandomForestRegressor(n_estimators=100)"
   ]
  },
  {
   "cell_type": "code",
   "execution_count": 7,
   "id": "998405f1",
   "metadata": {},
   "outputs": [
    {
     "data": {
      "text/plain": [
       "RandomForestRegressor()"
      ]
     },
     "execution_count": 7,
     "metadata": {},
     "output_type": "execute_result"
    }
   ],
   "source": [
    "RFR.fit(X_train,y_train)"
   ]
  },
  {
   "cell_type": "code",
   "execution_count": 8,
   "id": "83ca817d",
   "metadata": {},
   "outputs": [
    {
     "data": {
      "text/plain": [
       "array([11.93312133, 12.08262575, 11.93694616, 12.99007425, 12.47302537,\n",
       "       11.79612317, 12.56347524, 12.3884557 , 12.35506639, 11.68437894,\n",
       "       11.87044962, 12.49357036, 11.84716472, 11.73199464, 11.67170709,\n",
       "       12.11396882, 12.14245833, 11.84853146, 11.86399529, 12.46612024,\n",
       "       11.71061454, 12.26540568, 12.7750677 , 11.85836766, 12.07346147,\n",
       "       12.10368156, 12.6241337 , 11.79458063, 12.06608722, 11.89989436,\n",
       "       11.61131352, 12.41729497, 11.76501879, 12.05546926, 11.54762406,\n",
       "       11.88355161, 12.54920975, 12.59525278, 11.87314538, 12.58888088,\n",
       "       11.9155385 , 11.81031605, 12.35537721, 12.25087494, 11.91748452,\n",
       "       12.54287807, 11.80988987, 12.60522552, 11.9806654 , 11.85715471,\n",
       "       11.98233891, 11.58616724, 12.14214196, 11.58844358, 11.86241746,\n",
       "       11.78475395, 12.06939409, 12.07563898, 12.06672734, 12.26595272,\n",
       "       11.47294378, 12.39873319, 12.18673364, 11.91972007, 11.87957892,\n",
       "       12.10823412, 11.81657754, 12.30133836, 12.24705343, 11.7445749 ,\n",
       "       11.98818598, 12.0308272 , 11.75360528, 11.73067505, 11.90686984,\n",
       "       12.08064911, 11.9982871 , 11.8110961 , 12.18443749, 12.08651676,\n",
       "       12.16768586, 12.10586733, 13.10514822, 11.73267984, 12.30877087,\n",
       "       11.95144327, 11.70476273, 11.69919908, 12.05892332, 12.09604501,\n",
       "       11.82280848, 11.09775762, 11.95741049, 11.82869335, 12.14647492,\n",
       "       12.06017115, 12.34918829, 12.24277216, 12.59853557, 11.7608529 ,\n",
       "       11.6927387 , 12.09102416, 12.07568144, 12.00372801, 12.66209665,\n",
       "       11.8021666 , 12.39525775, 12.08817586, 11.75699314, 12.27442059,\n",
       "       12.80169626, 12.06983364, 12.61668103, 11.95171184, 12.00890904,\n",
       "       11.54400566, 12.1223819 , 11.79702347, 11.92760037, 12.07580894,\n",
       "       12.16084041, 11.75669432, 12.07028184, 12.64708401, 12.42345201,\n",
       "       11.76019977, 12.00435985, 11.84921084, 12.02538051, 12.19945418,\n",
       "       11.73785117, 12.09289512, 11.84653519, 11.70468517, 11.91834161,\n",
       "       12.19321993, 12.68550805, 12.07442025, 12.72550294, 12.99734466,\n",
       "       12.57936214, 11.9242677 , 12.42640288, 11.64985135, 11.65950609,\n",
       "       11.85230264, 11.73601269, 11.73831574, 11.71821923, 11.72296711,\n",
       "       11.75833902, 11.7414869 , 12.34337323, 11.95128417, 11.81302614,\n",
       "       11.95451808, 11.79079353, 12.30200554, 12.00518322, 11.81057894,\n",
       "       12.36164132, 11.73534108, 11.77350991, 12.49299504, 12.30163166,\n",
       "       12.10194527, 11.82034306, 11.37863541, 12.47310009, 11.75976361,\n",
       "       11.57798778, 12.24792623, 11.9412443 , 11.64812298, 12.52731917,\n",
       "       11.91748452, 12.58259376, 12.58734991, 11.77607596, 12.49532518,\n",
       "       11.98449219, 12.09217018, 12.00884621, 12.52404141, 11.92319524,\n",
       "       12.37533875, 11.85921087, 12.63285227, 12.19094577, 11.95048298,\n",
       "       12.011425  , 12.61438896, 11.8180732 , 12.0723313 , 12.55876543,\n",
       "       11.47761023, 11.8514796 , 11.64542216, 12.40197306, 11.89080847,\n",
       "       11.74413542, 11.85769438, 11.76551384, 11.94665051, 12.22837102,\n",
       "       12.44925452, 12.35439074, 11.6384797 , 12.104824  , 12.19780408,\n",
       "       12.10210986, 11.88901187, 12.64067795, 12.45479778, 11.90821428,\n",
       "       12.09912248, 11.72642026, 12.18141465, 11.94103178, 12.4435504 ,\n",
       "       11.89344256, 12.05636839, 11.8906012 , 11.76963826, 11.68909558,\n",
       "       11.8849911 , 12.15412647, 11.49262198, 12.6217245 , 12.0021811 ,\n",
       "       11.7759807 , 12.19875925, 11.5607001 , 12.22056019, 11.97993463,\n",
       "       11.98661512, 11.70869159, 11.99988936, 11.78553038, 12.09180473,\n",
       "       11.63766045, 11.75874471, 11.43243432, 12.10409968, 12.66165453,\n",
       "       11.75913114, 12.1779029 , 12.49809038, 11.66257564, 11.73917884,\n",
       "       12.3430889 , 11.61521904, 11.81807577, 11.49970615, 11.8479552 ,\n",
       "       13.01569427, 12.46227277, 12.81755784, 11.58496725, 11.99818367,\n",
       "       12.39179441, 12.082148  , 11.92426361, 12.56734569, 11.90686984,\n",
       "       11.9425035 , 11.89859709, 11.33004378, 12.35569956, 11.68423063,\n",
       "       11.75253576, 12.68977974, 11.82594863, 12.12133958, 11.67768634,\n",
       "       12.67771634, 11.40610113, 11.76997073, 12.0190821 , 11.6428031 ,\n",
       "       12.1629658 , 11.58118226, 11.73105779, 11.73709823, 11.94358674,\n",
       "       11.71880026, 12.24050452, 12.07103029, 12.07059018, 11.64955803,\n",
       "       11.91463531, 12.48765461])"
      ]
     },
     "execution_count": 8,
     "metadata": {},
     "output_type": "execute_result"
    }
   ],
   "source": [
    "y_prediction = RFR.predict(X_test)\n",
    "y_prediction"
   ]
  },
  {
   "cell_type": "code",
   "execution_count": 9,
   "id": "650d8dca",
   "metadata": {},
   "outputs": [
    {
     "data": {
      "text/plain": [
       "0.02668741411792716"
      ]
     },
     "execution_count": 9,
     "metadata": {},
     "output_type": "execute_result"
    }
   ],
   "source": [
    "mean_squared_error(y_test, y_prediction)"
   ]
  },
  {
   "cell_type": "code",
   "execution_count": 10,
   "id": "64e2b4fd",
   "metadata": {},
   "outputs": [
    {
     "data": {
      "text/plain": [
       "0.8201111093510373"
      ]
     },
     "execution_count": 10,
     "metadata": {},
     "output_type": "execute_result"
    }
   ],
   "source": [
    "r2_score(y_test, y_prediction)"
   ]
  },
  {
   "cell_type": "code",
   "execution_count": 11,
   "id": "4f5caa6b",
   "metadata": {
    "scrolled": true
   },
   "outputs": [],
   "source": [
    "#apllying exp so that we get back the values in a normal version \n",
    "y_prediction = np.expm1(y_prediction)"
   ]
  },
  {
   "cell_type": "code",
   "execution_count": null,
   "id": "fea7fb86",
   "metadata": {},
   "outputs": [],
   "source": []
  }
 ],
 "metadata": {
  "kernelspec": {
   "display_name": "PythonData",
   "language": "python",
   "name": "pythondata"
  },
  "language_info": {
   "codemirror_mode": {
    "name": "ipython",
    "version": 3
   },
   "file_extension": ".py",
   "mimetype": "text/x-python",
   "name": "python",
   "nbconvert_exporter": "python",
   "pygments_lexer": "ipython3",
   "version": "3.8.8"
  }
 },
 "nbformat": 4,
 "nbformat_minor": 5
}
