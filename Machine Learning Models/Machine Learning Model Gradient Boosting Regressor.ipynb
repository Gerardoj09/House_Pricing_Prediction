{
 "cells": [
  {
   "cell_type": "code",
   "execution_count": 1,
   "id": "a77633b2",
   "metadata": {},
   "outputs": [],
   "source": [
    "import pandas as pd\n",
    "from sklearn.ensemble import  GradientBoostingRegressor\n",
    "import numpy as np\n",
    "from sklearn.model_selection import train_test_split\n",
    "from sklearn.metrics import mean_squared_error, r2_score\n",
    "from sklearn.preprocessing import StandardScaler"
   ]
  },
  {
   "cell_type": "code",
   "execution_count": 2,
   "id": "f8a5f124",
   "metadata": {},
   "outputs": [],
   "source": [
    "df= pd.read_csv('../Resources/df_ETL.csv')\n"
   ]
  },
  {
   "cell_type": "markdown",
   "id": "22f087bd",
   "metadata": {},
   "source": [
    "The first thing is to return the datasets to the way they were before cleaning to be able to work on them separately."
   ]
  },
  {
   "cell_type": "code",
   "execution_count": 3,
   "id": "3206f403",
   "metadata": {},
   "outputs": [
    {
     "data": {
      "text/plain": [
       "(1460, 80)"
      ]
     },
     "execution_count": 3,
     "metadata": {},
     "output_type": "execute_result"
    }
   ],
   "source": [
    "df.shape"
   ]
  },
  {
   "cell_type": "code",
   "execution_count": 4,
   "id": "416667b2",
   "metadata": {},
   "outputs": [
    {
     "data": {
      "text/html": [
       "<div>\n",
       "<style scoped>\n",
       "    .dataframe tbody tr th:only-of-type {\n",
       "        vertical-align: middle;\n",
       "    }\n",
       "\n",
       "    .dataframe tbody tr th {\n",
       "        vertical-align: top;\n",
       "    }\n",
       "\n",
       "    .dataframe thead th {\n",
       "        text-align: right;\n",
       "    }\n",
       "</style>\n",
       "<table border=\"1\" class=\"dataframe\">\n",
       "  <thead>\n",
       "    <tr style=\"text-align: right;\">\n",
       "      <th></th>\n",
       "      <th>OverallQual</th>\n",
       "      <th>YearBuilt</th>\n",
       "      <th>YearRemodAdd</th>\n",
       "      <th>MasVnrArea</th>\n",
       "      <th>ExterCond</th>\n",
       "      <th>BsmtQual</th>\n",
       "      <th>TotalBsmtSF</th>\n",
       "      <th>HeatingQC</th>\n",
       "      <th>FirstFlrSF</th>\n",
       "      <th>GrLivArea</th>\n",
       "      <th>...</th>\n",
       "      <th>Fence_GdWo</th>\n",
       "      <th>Fence_MnPrv</th>\n",
       "      <th>Fence_MnWw</th>\n",
       "      <th>Fence_NFe</th>\n",
       "      <th>Foundation_BrkTil</th>\n",
       "      <th>Foundation_CBlock</th>\n",
       "      <th>Foundation_PConc</th>\n",
       "      <th>Foundation_Slab</th>\n",
       "      <th>Foundation_Stone</th>\n",
       "      <th>Foundation_Wood</th>\n",
       "    </tr>\n",
       "  </thead>\n",
       "  <tbody>\n",
       "    <tr>\n",
       "      <th>0</th>\n",
       "      <td>7</td>\n",
       "      <td>2003</td>\n",
       "      <td>2003</td>\n",
       "      <td>5.283204</td>\n",
       "      <td>3</td>\n",
       "      <td>4</td>\n",
       "      <td>856.0</td>\n",
       "      <td>5</td>\n",
       "      <td>6.753438</td>\n",
       "      <td>7.444833</td>\n",
       "      <td>...</td>\n",
       "      <td>0</td>\n",
       "      <td>0</td>\n",
       "      <td>0</td>\n",
       "      <td>1</td>\n",
       "      <td>0</td>\n",
       "      <td>0</td>\n",
       "      <td>1</td>\n",
       "      <td>0</td>\n",
       "      <td>0</td>\n",
       "      <td>0</td>\n",
       "    </tr>\n",
       "    <tr>\n",
       "      <th>1</th>\n",
       "      <td>6</td>\n",
       "      <td>1976</td>\n",
       "      <td>1976</td>\n",
       "      <td>0.000000</td>\n",
       "      <td>3</td>\n",
       "      <td>4</td>\n",
       "      <td>1262.0</td>\n",
       "      <td>5</td>\n",
       "      <td>7.141245</td>\n",
       "      <td>7.141245</td>\n",
       "      <td>...</td>\n",
       "      <td>0</td>\n",
       "      <td>0</td>\n",
       "      <td>0</td>\n",
       "      <td>1</td>\n",
       "      <td>0</td>\n",
       "      <td>1</td>\n",
       "      <td>0</td>\n",
       "      <td>0</td>\n",
       "      <td>0</td>\n",
       "      <td>0</td>\n",
       "    </tr>\n",
       "    <tr>\n",
       "      <th>2</th>\n",
       "      <td>7</td>\n",
       "      <td>2001</td>\n",
       "      <td>2002</td>\n",
       "      <td>5.093750</td>\n",
       "      <td>3</td>\n",
       "      <td>4</td>\n",
       "      <td>920.0</td>\n",
       "      <td>5</td>\n",
       "      <td>6.825460</td>\n",
       "      <td>7.488294</td>\n",
       "      <td>...</td>\n",
       "      <td>0</td>\n",
       "      <td>0</td>\n",
       "      <td>0</td>\n",
       "      <td>1</td>\n",
       "      <td>0</td>\n",
       "      <td>0</td>\n",
       "      <td>1</td>\n",
       "      <td>0</td>\n",
       "      <td>0</td>\n",
       "      <td>0</td>\n",
       "    </tr>\n",
       "    <tr>\n",
       "      <th>3</th>\n",
       "      <td>7</td>\n",
       "      <td>1915</td>\n",
       "      <td>1970</td>\n",
       "      <td>0.000000</td>\n",
       "      <td>3</td>\n",
       "      <td>3</td>\n",
       "      <td>756.0</td>\n",
       "      <td>4</td>\n",
       "      <td>6.869014</td>\n",
       "      <td>7.448916</td>\n",
       "      <td>...</td>\n",
       "      <td>0</td>\n",
       "      <td>0</td>\n",
       "      <td>0</td>\n",
       "      <td>1</td>\n",
       "      <td>1</td>\n",
       "      <td>0</td>\n",
       "      <td>0</td>\n",
       "      <td>0</td>\n",
       "      <td>0</td>\n",
       "      <td>0</td>\n",
       "    </tr>\n",
       "    <tr>\n",
       "      <th>4</th>\n",
       "      <td>8</td>\n",
       "      <td>2000</td>\n",
       "      <td>2000</td>\n",
       "      <td>5.860786</td>\n",
       "      <td>3</td>\n",
       "      <td>4</td>\n",
       "      <td>1145.0</td>\n",
       "      <td>5</td>\n",
       "      <td>7.044033</td>\n",
       "      <td>7.695758</td>\n",
       "      <td>...</td>\n",
       "      <td>0</td>\n",
       "      <td>0</td>\n",
       "      <td>0</td>\n",
       "      <td>1</td>\n",
       "      <td>0</td>\n",
       "      <td>0</td>\n",
       "      <td>1</td>\n",
       "      <td>0</td>\n",
       "      <td>0</td>\n",
       "      <td>0</td>\n",
       "    </tr>\n",
       "  </tbody>\n",
       "</table>\n",
       "<p>5 rows × 80 columns</p>\n",
       "</div>"
      ],
      "text/plain": [
       "   OverallQual  YearBuilt  YearRemodAdd  MasVnrArea  ExterCond  BsmtQual  \\\n",
       "0            7       2003          2003    5.283204          3         4   \n",
       "1            6       1976          1976    0.000000          3         4   \n",
       "2            7       2001          2002    5.093750          3         4   \n",
       "3            7       1915          1970    0.000000          3         3   \n",
       "4            8       2000          2000    5.860786          3         4   \n",
       "\n",
       "   TotalBsmtSF  HeatingQC  FirstFlrSF  GrLivArea  ...  Fence_GdWo  \\\n",
       "0        856.0          5    6.753438   7.444833  ...           0   \n",
       "1       1262.0          5    7.141245   7.141245  ...           0   \n",
       "2        920.0          5    6.825460   7.488294  ...           0   \n",
       "3        756.0          4    6.869014   7.448916  ...           0   \n",
       "4       1145.0          5    7.044033   7.695758  ...           0   \n",
       "\n",
       "   Fence_MnPrv  Fence_MnWw  Fence_NFe  Foundation_BrkTil  Foundation_CBlock  \\\n",
       "0            0           0          1                  0                  0   \n",
       "1            0           0          1                  0                  1   \n",
       "2            0           0          1                  0                  0   \n",
       "3            0           0          1                  1                  0   \n",
       "4            0           0          1                  0                  0   \n",
       "\n",
       "   Foundation_PConc  Foundation_Slab  Foundation_Stone  Foundation_Wood  \n",
       "0                 1                0                 0                0  \n",
       "1                 0                0                 0                0  \n",
       "2                 1                0                 0                0  \n",
       "3                 0                0                 0                0  \n",
       "4                 1                0                 0                0  \n",
       "\n",
       "[5 rows x 80 columns]"
      ]
     },
     "execution_count": 4,
     "metadata": {},
     "output_type": "execute_result"
    }
   ],
   "source": [
    "df.head()"
   ]
  },
  {
   "cell_type": "markdown",
   "id": "7d6073cc",
   "metadata": {},
   "source": [
    "\n",
    "Now we will split our  dataset again to have separeted the training set with the testing set"
   ]
  },
  {
   "cell_type": "code",
   "execution_count": 5,
   "id": "47cfec03",
   "metadata": {},
   "outputs": [],
   "source": [
    "y = df.SalePrice\n",
    "X = df.drop(columns = 'SalePrice')"
   ]
  },
  {
   "cell_type": "code",
   "execution_count": 6,
   "id": "630e74ba",
   "metadata": {},
   "outputs": [],
   "source": [
    "X_train, X_test, y_train, y_test = train_test_split(X,y,test_size=0.20, shuffle = True)"
   ]
  },
  {
   "cell_type": "code",
   "execution_count": 7,
   "id": "b448fac3",
   "metadata": {},
   "outputs": [],
   "source": [
    "# Creating a StandardScaler instance.\n",
    "scaler = StandardScaler()\n",
    "# Fitting the Standard Scaler with the training data.\n",
    "X_scaler = scaler.fit(X_train)\n",
    "\n",
    "# Scaling the data.\n",
    "X_train_scaled = X_scaler.transform(X_train)\n",
    "X_test_scaled = X_scaler.transform(X_test)"
   ]
  },
  {
   "cell_type": "code",
   "execution_count": 8,
   "id": "d7349fa7",
   "metadata": {},
   "outputs": [],
   "source": [
    "GBR = GradientBoostingRegressor()"
   ]
  },
  {
   "cell_type": "code",
   "execution_count": 9,
   "id": "2e3ff534",
   "metadata": {},
   "outputs": [
    {
     "data": {
      "text/plain": [
       "GradientBoostingRegressor()"
      ]
     },
     "execution_count": 9,
     "metadata": {},
     "output_type": "execute_result"
    }
   ],
   "source": [
    "GBR.fit(X_train_scaled ,y_train)"
   ]
  },
  {
   "cell_type": "code",
   "execution_count": 10,
   "id": "7a13482e",
   "metadata": {},
   "outputs": [
    {
     "data": {
      "text/plain": [
       "array([11.90762416, 12.62155882, 11.86218259, 12.20433191, 11.83771548,\n",
       "       11.81666151, 11.78886746, 12.71621419, 11.83351698, 11.86312781,\n",
       "       12.49609816, 11.78654599, 11.92666044, 12.17812011, 12.06195349,\n",
       "       12.61555469, 11.88898427, 12.84946396, 12.27671705, 12.30705709,\n",
       "       12.68344713, 11.8083361 , 12.10398109, 11.51857944, 12.13711044,\n",
       "       12.09575336, 12.23886843, 12.98298966, 12.07635645, 12.07136931,\n",
       "       11.82348915, 12.42402341, 12.13077979, 12.17202874, 12.76310901,\n",
       "       12.04791834, 12.10725812, 11.85392848, 11.96964451, 11.73152607,\n",
       "       12.15078074, 12.32190796, 12.12988687, 11.40855941, 12.10690064,\n",
       "       12.55266862, 11.89748542, 11.76737422, 11.9517074 , 11.61073853,\n",
       "       12.1039963 , 11.72171018, 11.992061  , 12.2351157 , 12.30505325,\n",
       "       11.89873953, 11.76153083, 12.04515744, 11.79996894, 12.14721539,\n",
       "       12.20564592, 12.10544703, 11.7556908 , 11.77259983, 12.26354243,\n",
       "       12.01009984, 11.99563419, 11.97360281, 11.76386274, 12.12922667,\n",
       "       12.09935819, 11.64362853, 12.14339208, 11.74587621, 11.66530673,\n",
       "       12.11982367, 12.11833462, 11.94024825, 11.54163112, 12.95384877,\n",
       "       11.72276733, 11.96188583, 12.13403105, 11.82658529, 12.10461026,\n",
       "       12.0805603 , 11.34248925, 11.8668065 , 11.86434212, 11.5928836 ,\n",
       "       12.09356913, 11.64313074, 11.73190926, 11.77477806, 12.09951669,\n",
       "       12.65767583, 12.49489682, 12.08043884, 12.69404465, 12.17167363,\n",
       "       12.04159471, 12.07233579, 12.09604283, 12.80847685, 12.04860624,\n",
       "       11.54045377, 12.45678169, 11.93966824, 12.23456284, 11.51449125,\n",
       "       11.97234383, 12.04345529, 12.21043786, 11.66907027, 12.21109453,\n",
       "       12.20861867, 11.84131619, 11.82922058, 12.14162362, 11.82779359,\n",
       "       11.89978301, 11.91704264, 11.52928993, 11.83853695, 11.89717159,\n",
       "       11.80607382, 12.33293006, 12.32526481, 11.69589207, 12.87582579,\n",
       "       12.18834322, 12.10331457, 11.90243756, 11.69927739, 12.03903665,\n",
       "       12.03026587, 12.37480977, 11.98507973, 11.82832337, 11.90645479,\n",
       "       11.96163954, 12.07135135, 12.87313046, 11.67823339, 12.04750388,\n",
       "       11.9142533 , 11.8518382 , 11.85129955, 11.90566779, 11.60108518,\n",
       "       11.99816503, 12.14161801, 11.97638217, 11.82648017, 12.02560087,\n",
       "       11.9054675 , 12.22354523, 11.72736437, 12.4306851 , 11.91458844,\n",
       "       11.90565747, 12.03624947, 12.97121136, 12.10125494, 12.47840317,\n",
       "       11.72050497, 12.27199403, 12.33766801, 11.91794125, 11.64550959,\n",
       "       11.84264622, 11.77100209, 12.09879609, 12.00556341, 11.50432604,\n",
       "       12.3738507 , 12.47238549, 12.15145395, 11.75792939, 12.16558748,\n",
       "       11.60753402, 12.4646796 , 11.86918711, 12.98740856, 12.53782969,\n",
       "       11.52301462, 12.60760888, 11.67791636, 11.71563491, 11.52015518,\n",
       "       12.32687355, 12.14218119, 11.72510702, 11.78401482, 12.11068839,\n",
       "       12.07123263, 11.95494939, 12.36228245, 12.04428284, 11.49998327,\n",
       "       11.81564698, 12.26546745, 11.80259429, 11.97193407, 11.86106393,\n",
       "       12.17202874, 12.09604283, 12.65779799, 12.28572053, 12.32416514,\n",
       "       12.45924551, 12.49145539, 12.29354164, 11.96554295, 11.78109407,\n",
       "       11.89516154, 11.93792412, 12.16220565, 12.17803411, 11.89996993,\n",
       "       12.46838614, 11.76345523, 11.82492773, 11.69651658, 11.64306819,\n",
       "       12.4635616 , 12.12719528, 11.94041046, 11.8150529 , 12.62918009,\n",
       "       12.00047232, 12.92670951, 12.09362476, 11.97353762, 12.5224478 ,\n",
       "       11.86944143, 11.81297707, 11.88378915, 11.96708329, 11.78183916,\n",
       "       12.01136436, 11.89355012, 11.68871155, 12.13188635, 12.19004105,\n",
       "       12.613928  , 11.76894491, 12.28404836, 12.39312143, 12.07558485,\n",
       "       11.83771548, 11.86458146, 11.56694566, 12.1644245 , 12.2268174 ,\n",
       "       11.94636013, 12.4718071 , 12.07864449, 11.90185399, 12.65800595,\n",
       "       11.82016349, 11.94736053, 12.5582135 , 11.79320783, 12.14211835,\n",
       "       11.81234014, 12.64399122, 12.45945841, 12.02923037, 12.39361318,\n",
       "       11.90637707, 11.99686726, 11.71226814, 12.06488407, 11.8082581 ,\n",
       "       12.39587487, 11.61021221, 12.5256491 , 11.82838468, 11.93753146,\n",
       "       12.13818069, 12.14266183, 12.74332702, 11.76549237, 12.28156354,\n",
       "       11.6687916 , 11.93264   , 12.17376561, 11.58794063, 11.41433149,\n",
       "       11.83152601, 12.02419634])"
      ]
     },
     "execution_count": 10,
     "metadata": {},
     "output_type": "execute_result"
    }
   ],
   "source": [
    "y_prediction = GBR.predict(X_test_scaled)\n",
    "y_prediction"
   ]
  },
  {
   "cell_type": "code",
   "execution_count": 11,
   "id": "3a178fc8",
   "metadata": {
    "scrolled": true
   },
   "outputs": [
    {
     "data": {
      "text/plain": [
       "0.02310622807756774"
      ]
     },
     "execution_count": 11,
     "metadata": {},
     "output_type": "execute_result"
    }
   ],
   "source": [
    "mean_squared_error(y_test, y_prediction)"
   ]
  },
  {
   "cell_type": "code",
   "execution_count": 12,
   "id": "d17a4504",
   "metadata": {
    "scrolled": true
   },
   "outputs": [
    {
     "data": {
      "text/plain": [
       "0.8218207591627837"
      ]
     },
     "execution_count": 12,
     "metadata": {},
     "output_type": "execute_result"
    }
   ],
   "source": [
    "r2_score(y_test, y_prediction)"
   ]
  },
  {
   "cell_type": "code",
   "execution_count": 13,
   "id": "6f13115e",
   "metadata": {},
   "outputs": [],
   "source": [
    "#apllying exp so that we get back the values in a normal version \n",
    "y_pred = np.expm1(y_prediction)"
   ]
  },
  {
   "cell_type": "code",
   "execution_count": null,
   "id": "89d5fd32",
   "metadata": {},
   "outputs": [],
   "source": []
  }
 ],
 "metadata": {
  "kernelspec": {
   "display_name": "Python 3",
   "language": "python",
   "name": "python3"
  },
  "language_info": {
   "codemirror_mode": {
    "name": "ipython",
    "version": 3
   },
   "file_extension": ".py",
   "mimetype": "text/x-python",
   "name": "python",
   "nbconvert_exporter": "python",
   "pygments_lexer": "ipython3",
   "version": "3.8.8"
  }
 },
 "nbformat": 4,
 "nbformat_minor": 5
}
