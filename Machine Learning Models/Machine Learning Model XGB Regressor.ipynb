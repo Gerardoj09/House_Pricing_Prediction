{
 "cells": [
  {
   "cell_type": "code",
   "execution_count": 1,
   "id": "a77633b2",
   "metadata": {},
   "outputs": [],
   "source": [
    "import pandas as pd\n",
    "import numpy as np\n",
    "from sklearn.model_selection import train_test_split\n",
    "from sklearn.metrics import mean_squared_error, r2_score\n",
    "from sklearn.preprocessing import StandardScaler\n",
    "import xgboost"
   ]
  },
  {
   "cell_type": "code",
   "execution_count": 2,
   "id": "c102e5c2",
   "metadata": {},
   "outputs": [
    {
     "name": "stdout",
     "output_type": "stream",
     "text": [
      "Requirement already satisfied: xgboost in c:\\users\\josue\\anaconda3\\lib\\site-packages (1.5.2)\n",
      "Requirement already satisfied: numpy in c:\\users\\josue\\anaconda3\\lib\\site-packages (from xgboost) (1.20.1)\n",
      "Requirement already satisfied: scipy in c:\\users\\josue\\anaconda3\\lib\\site-packages (from xgboost) (1.6.2)\n",
      "Note: you may need to restart the kernel to use updated packages.\n"
     ]
    }
   ],
   "source": [
    "pip install xgboost"
   ]
  },
  {
   "cell_type": "code",
   "execution_count": 3,
   "id": "f8a5f124",
   "metadata": {},
   "outputs": [],
   "source": [
    "df= pd.read_csv('../Resources/df_ETL.csv')\n"
   ]
  },
  {
   "cell_type": "markdown",
   "id": "22f087bd",
   "metadata": {},
   "source": [
    "The first thing is to return the datasets to the way they were before cleaning to be able to work on them separately."
   ]
  },
  {
   "cell_type": "code",
   "execution_count": 4,
   "id": "3206f403",
   "metadata": {},
   "outputs": [
    {
     "data": {
      "text/plain": [
       "(1460, 80)"
      ]
     },
     "execution_count": 4,
     "metadata": {},
     "output_type": "execute_result"
    }
   ],
   "source": [
    "df.shape"
   ]
  },
  {
   "cell_type": "code",
   "execution_count": 5,
   "id": "c66b87cb",
   "metadata": {},
   "outputs": [
    {
     "data": {
      "text/html": [
       "<div>\n",
       "<style scoped>\n",
       "    .dataframe tbody tr th:only-of-type {\n",
       "        vertical-align: middle;\n",
       "    }\n",
       "\n",
       "    .dataframe tbody tr th {\n",
       "        vertical-align: top;\n",
       "    }\n",
       "\n",
       "    .dataframe thead th {\n",
       "        text-align: right;\n",
       "    }\n",
       "</style>\n",
       "<table border=\"1\" class=\"dataframe\">\n",
       "  <thead>\n",
       "    <tr style=\"text-align: right;\">\n",
       "      <th></th>\n",
       "      <th>OverallQual</th>\n",
       "      <th>YearBuilt</th>\n",
       "      <th>YearRemodAdd</th>\n",
       "      <th>MasVnrArea</th>\n",
       "      <th>ExterCond</th>\n",
       "      <th>BsmtQual</th>\n",
       "      <th>TotalBsmtSF</th>\n",
       "      <th>HeatingQC</th>\n",
       "      <th>FirstFlrSF</th>\n",
       "      <th>GrLivArea</th>\n",
       "      <th>...</th>\n",
       "      <th>Fence_GdWo</th>\n",
       "      <th>Fence_MnPrv</th>\n",
       "      <th>Fence_MnWw</th>\n",
       "      <th>Fence_NFe</th>\n",
       "      <th>Foundation_BrkTil</th>\n",
       "      <th>Foundation_CBlock</th>\n",
       "      <th>Foundation_PConc</th>\n",
       "      <th>Foundation_Slab</th>\n",
       "      <th>Foundation_Stone</th>\n",
       "      <th>Foundation_Wood</th>\n",
       "    </tr>\n",
       "  </thead>\n",
       "  <tbody>\n",
       "    <tr>\n",
       "      <th>0</th>\n",
       "      <td>7</td>\n",
       "      <td>2003</td>\n",
       "      <td>2003</td>\n",
       "      <td>5.283204</td>\n",
       "      <td>3</td>\n",
       "      <td>4</td>\n",
       "      <td>856.0</td>\n",
       "      <td>5</td>\n",
       "      <td>6.753438</td>\n",
       "      <td>7.444833</td>\n",
       "      <td>...</td>\n",
       "      <td>0</td>\n",
       "      <td>0</td>\n",
       "      <td>0</td>\n",
       "      <td>1</td>\n",
       "      <td>0</td>\n",
       "      <td>0</td>\n",
       "      <td>1</td>\n",
       "      <td>0</td>\n",
       "      <td>0</td>\n",
       "      <td>0</td>\n",
       "    </tr>\n",
       "    <tr>\n",
       "      <th>1</th>\n",
       "      <td>6</td>\n",
       "      <td>1976</td>\n",
       "      <td>1976</td>\n",
       "      <td>0.000000</td>\n",
       "      <td>3</td>\n",
       "      <td>4</td>\n",
       "      <td>1262.0</td>\n",
       "      <td>5</td>\n",
       "      <td>7.141245</td>\n",
       "      <td>7.141245</td>\n",
       "      <td>...</td>\n",
       "      <td>0</td>\n",
       "      <td>0</td>\n",
       "      <td>0</td>\n",
       "      <td>1</td>\n",
       "      <td>0</td>\n",
       "      <td>1</td>\n",
       "      <td>0</td>\n",
       "      <td>0</td>\n",
       "      <td>0</td>\n",
       "      <td>0</td>\n",
       "    </tr>\n",
       "    <tr>\n",
       "      <th>2</th>\n",
       "      <td>7</td>\n",
       "      <td>2001</td>\n",
       "      <td>2002</td>\n",
       "      <td>5.093750</td>\n",
       "      <td>3</td>\n",
       "      <td>4</td>\n",
       "      <td>920.0</td>\n",
       "      <td>5</td>\n",
       "      <td>6.825460</td>\n",
       "      <td>7.488294</td>\n",
       "      <td>...</td>\n",
       "      <td>0</td>\n",
       "      <td>0</td>\n",
       "      <td>0</td>\n",
       "      <td>1</td>\n",
       "      <td>0</td>\n",
       "      <td>0</td>\n",
       "      <td>1</td>\n",
       "      <td>0</td>\n",
       "      <td>0</td>\n",
       "      <td>0</td>\n",
       "    </tr>\n",
       "    <tr>\n",
       "      <th>3</th>\n",
       "      <td>7</td>\n",
       "      <td>1915</td>\n",
       "      <td>1970</td>\n",
       "      <td>0.000000</td>\n",
       "      <td>3</td>\n",
       "      <td>3</td>\n",
       "      <td>756.0</td>\n",
       "      <td>4</td>\n",
       "      <td>6.869014</td>\n",
       "      <td>7.448916</td>\n",
       "      <td>...</td>\n",
       "      <td>0</td>\n",
       "      <td>0</td>\n",
       "      <td>0</td>\n",
       "      <td>1</td>\n",
       "      <td>1</td>\n",
       "      <td>0</td>\n",
       "      <td>0</td>\n",
       "      <td>0</td>\n",
       "      <td>0</td>\n",
       "      <td>0</td>\n",
       "    </tr>\n",
       "    <tr>\n",
       "      <th>4</th>\n",
       "      <td>8</td>\n",
       "      <td>2000</td>\n",
       "      <td>2000</td>\n",
       "      <td>5.860786</td>\n",
       "      <td>3</td>\n",
       "      <td>4</td>\n",
       "      <td>1145.0</td>\n",
       "      <td>5</td>\n",
       "      <td>7.044033</td>\n",
       "      <td>7.695758</td>\n",
       "      <td>...</td>\n",
       "      <td>0</td>\n",
       "      <td>0</td>\n",
       "      <td>0</td>\n",
       "      <td>1</td>\n",
       "      <td>0</td>\n",
       "      <td>0</td>\n",
       "      <td>1</td>\n",
       "      <td>0</td>\n",
       "      <td>0</td>\n",
       "      <td>0</td>\n",
       "    </tr>\n",
       "  </tbody>\n",
       "</table>\n",
       "<p>5 rows × 80 columns</p>\n",
       "</div>"
      ],
      "text/plain": [
       "   OverallQual  YearBuilt  YearRemodAdd  MasVnrArea  ExterCond  BsmtQual  \\\n",
       "0            7       2003          2003    5.283204          3         4   \n",
       "1            6       1976          1976    0.000000          3         4   \n",
       "2            7       2001          2002    5.093750          3         4   \n",
       "3            7       1915          1970    0.000000          3         3   \n",
       "4            8       2000          2000    5.860786          3         4   \n",
       "\n",
       "   TotalBsmtSF  HeatingQC  FirstFlrSF  GrLivArea  ...  Fence_GdWo  \\\n",
       "0        856.0          5    6.753438   7.444833  ...           0   \n",
       "1       1262.0          5    7.141245   7.141245  ...           0   \n",
       "2        920.0          5    6.825460   7.488294  ...           0   \n",
       "3        756.0          4    6.869014   7.448916  ...           0   \n",
       "4       1145.0          5    7.044033   7.695758  ...           0   \n",
       "\n",
       "   Fence_MnPrv  Fence_MnWw  Fence_NFe  Foundation_BrkTil  Foundation_CBlock  \\\n",
       "0            0           0          1                  0                  0   \n",
       "1            0           0          1                  0                  1   \n",
       "2            0           0          1                  0                  0   \n",
       "3            0           0          1                  1                  0   \n",
       "4            0           0          1                  0                  0   \n",
       "\n",
       "   Foundation_PConc  Foundation_Slab  Foundation_Stone  Foundation_Wood  \n",
       "0                 1                0                 0                0  \n",
       "1                 0                0                 0                0  \n",
       "2                 1                0                 0                0  \n",
       "3                 0                0                 0                0  \n",
       "4                 1                0                 0                0  \n",
       "\n",
       "[5 rows x 80 columns]"
      ]
     },
     "execution_count": 5,
     "metadata": {},
     "output_type": "execute_result"
    }
   ],
   "source": [
    "df.head()"
   ]
  },
  {
   "cell_type": "markdown",
   "id": "7d6073cc",
   "metadata": {},
   "source": [
    "\n",
    "Now we will split our  dataset again to have separeted the training set with the testing set"
   ]
  },
  {
   "cell_type": "code",
   "execution_count": 6,
   "id": "b96fea41",
   "metadata": {},
   "outputs": [],
   "source": [
    "y = df.SalePrice\n",
    "X = df.drop(columns = 'SalePrice')"
   ]
  },
  {
   "cell_type": "code",
   "execution_count": 7,
   "id": "630e74ba",
   "metadata": {},
   "outputs": [],
   "source": [
    "X_train, X_test, y_train, y_test = train_test_split(X,y,test_size=0.20)"
   ]
  },
  {
   "cell_type": "code",
   "execution_count": 8,
   "id": "0d0877b0",
   "metadata": {},
   "outputs": [],
   "source": [
    "# Creating a StandardScaler instance.\n",
    "scaler = StandardScaler()\n",
    "# Fitting the Standard Scaler with the training data.\n",
    "X_scaler = scaler.fit(X_train)\n",
    "\n",
    "# Scaling the data.\n",
    "X_train_scaled = X_scaler.transform(X_train)\n",
    "X_test_scaled = X_scaler.transform(X_test)"
   ]
  },
  {
   "cell_type": "code",
   "execution_count": 9,
   "id": "0ba2f17a",
   "metadata": {},
   "outputs": [],
   "source": [
    "XGB = xgboost.XGBRegressor()"
   ]
  },
  {
   "cell_type": "code",
   "execution_count": 10,
   "id": "eb33ff58",
   "metadata": {},
   "outputs": [
    {
     "data": {
      "text/plain": [
       "XGBRegressor(base_score=0.5, booster='gbtree', colsample_bylevel=1,\n",
       "             colsample_bynode=1, colsample_bytree=1, enable_categorical=False,\n",
       "             gamma=0, gpu_id=-1, importance_type=None,\n",
       "             interaction_constraints='', learning_rate=0.300000012,\n",
       "             max_delta_step=0, max_depth=6, min_child_weight=1, missing=nan,\n",
       "             monotone_constraints='()', n_estimators=100, n_jobs=12,\n",
       "             num_parallel_tree=1, predictor='auto', random_state=0, reg_alpha=0,\n",
       "             reg_lambda=1, scale_pos_weight=1, subsample=1, tree_method='exact',\n",
       "             validate_parameters=1, verbosity=None)"
      ]
     },
     "execution_count": 10,
     "metadata": {},
     "output_type": "execute_result"
    }
   ],
   "source": [
    "XGB.fit(X_train_scaled,y_train)"
   ]
  },
  {
   "cell_type": "code",
   "execution_count": 11,
   "id": "7556df7d",
   "metadata": {},
   "outputs": [
    {
     "data": {
      "text/plain": [
       "array([11.80646  , 11.7817   , 12.243289 , 12.226034 , 11.706158 ,\n",
       "       11.828745 , 11.512681 , 12.405231 , 11.358803 , 11.907926 ,\n",
       "       11.941259 , 11.886162 , 12.145615 , 12.263649 , 11.799195 ,\n",
       "       12.566826 , 12.152883 , 12.242258 , 11.870119 , 12.352113 ,\n",
       "       11.424938 , 11.663586 , 12.175646 , 12.373177 , 12.248678 ,\n",
       "       12.373274 , 12.494073 , 12.10131  , 12.220763 , 12.047004 ,\n",
       "       12.69419  , 12.485492 , 11.972335 , 11.927441 , 12.076408 ,\n",
       "       11.933845 , 12.359222 , 11.449418 , 12.528922 , 11.973976 ,\n",
       "       12.002056 , 12.660486 , 11.973848 , 11.782728 , 12.484736 ,\n",
       "       12.226554 , 11.707154 , 12.198231 , 12.184211 , 12.407709 ,\n",
       "       11.980061 , 12.11218  , 12.255299 , 12.343378 , 12.648497 ,\n",
       "       11.940488 , 12.714566 , 12.11333  , 12.332659 , 11.71709  ,\n",
       "       11.525308 , 11.854193 , 12.378766 , 11.898428 , 12.833924 ,\n",
       "       12.019362 , 12.001165 , 11.6173   , 11.932775 , 11.741349 ,\n",
       "       11.936069 , 11.79478  , 11.28669  , 11.450827 , 11.731892 ,\n",
       "       12.111906 , 12.331769 , 12.574518 , 12.107357 , 11.710518 ,\n",
       "       11.673005 , 12.047333 , 12.353733 , 12.670395 , 11.553473 ,\n",
       "       11.696281 , 12.622452 , 11.863007 , 12.229377 , 12.683733 ,\n",
       "       11.719269 , 12.093501 , 12.231362 , 12.021221 , 11.801519 ,\n",
       "       12.058009 , 11.885797 , 12.562624 , 12.247397 , 11.992565 ,\n",
       "       11.85177  , 12.114191 , 11.334203 , 12.349352 , 12.24036  ,\n",
       "       11.885102 , 12.334866 , 12.239312 , 11.812945 , 11.712135 ,\n",
       "       12.157929 , 11.703261 , 12.233418 , 11.364762 , 11.957187 ,\n",
       "       11.815731 , 12.742373 , 11.907506 , 12.56638  , 11.87341  ,\n",
       "       11.45142  , 11.7505245, 11.972311 , 11.781855 , 11.854541 ,\n",
       "       12.125111 , 12.385024 , 11.934604 , 12.180763 , 11.959869 ,\n",
       "       12.175816 , 12.047087 , 12.069982 , 12.611247 , 12.269239 ,\n",
       "       12.068016 , 11.848795 , 11.876266 , 12.180714 , 11.639641 ,\n",
       "       11.589688 , 11.678413 , 12.068977 , 11.801364 , 12.126694 ,\n",
       "       12.209773 , 12.072039 , 11.293776 , 11.868029 , 11.854136 ,\n",
       "       12.11177  , 11.817428 , 11.708135 , 11.815865 , 12.074322 ,\n",
       "       11.481859 , 12.144931 , 11.64135  , 12.179565 , 12.077587 ,\n",
       "       12.123222 , 12.35203  , 11.390998 , 12.043682 , 12.627864 ,\n",
       "       12.677408 , 12.2927685, 12.715137 , 12.250776 , 11.978428 ,\n",
       "       11.671619 , 12.496218 , 11.893514 , 11.513525 , 11.742683 ,\n",
       "       12.454963 , 11.686524 , 12.151911 , 11.633362 , 12.105654 ,\n",
       "       12.244634 , 11.650485 , 11.750605 , 11.929301 , 12.584304 ,\n",
       "       12.239939 , 12.593134 , 11.620348 , 13.036399 , 12.0923195,\n",
       "       11.528374 , 12.001965 , 12.247663 , 12.054579 , 12.02198  ,\n",
       "       11.297691 , 12.50286  , 12.350251 , 12.226271 , 11.954415 ,\n",
       "       12.125679 , 12.48828  , 11.659405 , 12.498729 , 11.654061 ,\n",
       "       11.993629 , 11.547919 , 12.372176 , 11.738668 , 12.5950165,\n",
       "       11.42028  , 12.261331 , 12.097231 , 12.665551 , 11.752582 ,\n",
       "       12.129112 , 11.957668 , 12.532723 , 11.844699 , 12.260482 ,\n",
       "       11.990533 , 12.154383 , 12.028983 , 12.193729 , 11.775723 ,\n",
       "       11.81486  , 11.651802 , 11.930124 , 12.167845 , 11.810434 ,\n",
       "       11.880726 , 12.138819 , 11.757467 , 11.9554   , 12.178036 ,\n",
       "       12.358441 , 11.952791 , 11.592246 , 12.4080305, 11.63703  ,\n",
       "       12.131362 , 12.704649 , 11.804003 , 12.153286 , 11.512193 ,\n",
       "       12.339126 , 11.926868 , 12.265923 , 12.416794 , 12.752328 ,\n",
       "       12.381009 , 12.062475 , 12.008961 , 11.600186 , 12.425508 ,\n",
       "       11.781866 , 12.198802 , 11.931669 , 12.243703 , 12.216624 ,\n",
       "       11.878149 , 11.938162 , 11.994924 , 12.297764 , 11.859136 ,\n",
       "       11.874438 , 11.962393 , 10.963596 , 12.485314 , 11.600002 ,\n",
       "       11.974356 , 12.142288 , 11.985804 , 12.1012535, 11.84839  ,\n",
       "       12.362522 , 11.662339 , 12.021351 , 11.550324 , 12.740546 ,\n",
       "       11.682436 , 11.4737835, 11.7314625, 12.393742 , 12.549289 ,\n",
       "       11.795487 , 11.766319 , 12.060799 , 12.078869 , 12.259797 ,\n",
       "       12.113591 , 12.825622 ], dtype=float32)"
      ]
     },
     "execution_count": 11,
     "metadata": {},
     "output_type": "execute_result"
    }
   ],
   "source": [
    "y_prediction = XGB.predict(X_test_scaled)\n",
    "y_prediction"
   ]
  },
  {
   "cell_type": "code",
   "execution_count": 12,
   "id": "5b611581",
   "metadata": {
    "scrolled": true
   },
   "outputs": [
    {
     "data": {
      "text/plain": [
       "0.024712993647162382"
      ]
     },
     "execution_count": 12,
     "metadata": {},
     "output_type": "execute_result"
    }
   ],
   "source": [
    "mean_squared_error(y_test, y_prediction)"
   ]
  },
  {
   "cell_type": "code",
   "execution_count": 13,
   "id": "142b3f27",
   "metadata": {},
   "outputs": [
    {
     "data": {
      "text/plain": [
       "0.8076853531649671"
      ]
     },
     "execution_count": 13,
     "metadata": {},
     "output_type": "execute_result"
    }
   ],
   "source": [
    "r2_score(y_test, y_prediction)"
   ]
  },
  {
   "cell_type": "code",
   "execution_count": 14,
   "id": "9d5cecaa",
   "metadata": {},
   "outputs": [],
   "source": [
    "#apllying exp so that we get back the values in a normal version \n",
    "y_pred = np.expm1(y_prediction)"
   ]
  }
 ],
 "metadata": {
  "kernelspec": {
   "display_name": "Python 3",
   "language": "python",
   "name": "python3"
  },
  "language_info": {
   "codemirror_mode": {
    "name": "ipython",
    "version": 3
   },
   "file_extension": ".py",
   "mimetype": "text/x-python",
   "name": "python",
   "nbconvert_exporter": "python",
   "pygments_lexer": "ipython3",
   "version": "3.8.8"
  }
 },
 "nbformat": 4,
 "nbformat_minor": 5
}
