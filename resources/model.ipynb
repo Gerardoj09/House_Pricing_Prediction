{
 "cells": [
  {
   "cell_type": "code",
   "execution_count": 1,
   "metadata": {},
   "outputs": [],
   "source": [
    "import pickle\n",
    "import pandas as pd\n",
    "from sklearn.linear_model import LinearRegression\n",
    "from sklearn.model_selection import train_test_split\n",
    "from sklearn.linear_model import LinearRegression\n",
    "import numpy as np\n",
    "from sklearn.preprocessing import StandardScaler\n",
    "from sklearn.metrics import mean_squared_error, r2_score"
   ]
  },
  {
   "cell_type": "code",
   "execution_count": 2,
   "metadata": {},
   "outputs": [],
   "source": [
    "df= pd.read_csv('df_ETL.csv')\n"
   ]
  },
  {
   "cell_type": "markdown",
   "metadata": {},
   "source": [
    "The first thing is to return the datasets to the way they were before cleaning to be able to work on them separately."
   ]
  },
  {
   "cell_type": "code",
   "execution_count": 3,
   "metadata": {},
   "outputs": [
    {
     "data": {
      "text/plain": [
       "(1460, 80)"
      ]
     },
     "execution_count": 3,
     "metadata": {},
     "output_type": "execute_result"
    }
   ],
   "source": [
    "df.shape"
   ]
  },
  {
   "cell_type": "code",
   "execution_count": 4,
   "metadata": {},
   "outputs": [
    {
     "data": {
      "text/html": [
       "<div>\n",
       "<style scoped>\n",
       "    .dataframe tbody tr th:only-of-type {\n",
       "        vertical-align: middle;\n",
       "    }\n",
       "\n",
       "    .dataframe tbody tr th {\n",
       "        vertical-align: top;\n",
       "    }\n",
       "\n",
       "    .dataframe thead th {\n",
       "        text-align: right;\n",
       "    }\n",
       "</style>\n",
       "<table border=\"1\" class=\"dataframe\">\n",
       "  <thead>\n",
       "    <tr style=\"text-align: right;\">\n",
       "      <th></th>\n",
       "      <th>OverallQual</th>\n",
       "      <th>YearBuilt</th>\n",
       "      <th>YearRemodAdd</th>\n",
       "      <th>MasVnrArea</th>\n",
       "      <th>ExterCond</th>\n",
       "      <th>BsmtQual</th>\n",
       "      <th>TotalBsmtSF</th>\n",
       "      <th>HeatingQC</th>\n",
       "      <th>FirstFlrSF</th>\n",
       "      <th>GrLivArea</th>\n",
       "      <th>...</th>\n",
       "      <th>Fence_GdWo</th>\n",
       "      <th>Fence_MnPrv</th>\n",
       "      <th>Fence_MnWw</th>\n",
       "      <th>Fence_NFe</th>\n",
       "      <th>Foundation_BrkTil</th>\n",
       "      <th>Foundation_CBlock</th>\n",
       "      <th>Foundation_PConc</th>\n",
       "      <th>Foundation_Slab</th>\n",
       "      <th>Foundation_Stone</th>\n",
       "      <th>Foundation_Wood</th>\n",
       "    </tr>\n",
       "  </thead>\n",
       "  <tbody>\n",
       "    <tr>\n",
       "      <th>0</th>\n",
       "      <td>7</td>\n",
       "      <td>2003</td>\n",
       "      <td>2003</td>\n",
       "      <td>196.0</td>\n",
       "      <td>3</td>\n",
       "      <td>4</td>\n",
       "      <td>856.0</td>\n",
       "      <td>5</td>\n",
       "      <td>856</td>\n",
       "      <td>1710</td>\n",
       "      <td>...</td>\n",
       "      <td>0</td>\n",
       "      <td>0</td>\n",
       "      <td>0</td>\n",
       "      <td>1</td>\n",
       "      <td>0</td>\n",
       "      <td>0</td>\n",
       "      <td>1</td>\n",
       "      <td>0</td>\n",
       "      <td>0</td>\n",
       "      <td>0</td>\n",
       "    </tr>\n",
       "    <tr>\n",
       "      <th>1</th>\n",
       "      <td>6</td>\n",
       "      <td>1976</td>\n",
       "      <td>1976</td>\n",
       "      <td>0.0</td>\n",
       "      <td>3</td>\n",
       "      <td>4</td>\n",
       "      <td>1262.0</td>\n",
       "      <td>5</td>\n",
       "      <td>1262</td>\n",
       "      <td>1262</td>\n",
       "      <td>...</td>\n",
       "      <td>0</td>\n",
       "      <td>0</td>\n",
       "      <td>0</td>\n",
       "      <td>1</td>\n",
       "      <td>0</td>\n",
       "      <td>1</td>\n",
       "      <td>0</td>\n",
       "      <td>0</td>\n",
       "      <td>0</td>\n",
       "      <td>0</td>\n",
       "    </tr>\n",
       "    <tr>\n",
       "      <th>2</th>\n",
       "      <td>7</td>\n",
       "      <td>2001</td>\n",
       "      <td>2002</td>\n",
       "      <td>162.0</td>\n",
       "      <td>3</td>\n",
       "      <td>4</td>\n",
       "      <td>920.0</td>\n",
       "      <td>5</td>\n",
       "      <td>920</td>\n",
       "      <td>1786</td>\n",
       "      <td>...</td>\n",
       "      <td>0</td>\n",
       "      <td>0</td>\n",
       "      <td>0</td>\n",
       "      <td>1</td>\n",
       "      <td>0</td>\n",
       "      <td>0</td>\n",
       "      <td>1</td>\n",
       "      <td>0</td>\n",
       "      <td>0</td>\n",
       "      <td>0</td>\n",
       "    </tr>\n",
       "    <tr>\n",
       "      <th>3</th>\n",
       "      <td>7</td>\n",
       "      <td>1915</td>\n",
       "      <td>1970</td>\n",
       "      <td>0.0</td>\n",
       "      <td>3</td>\n",
       "      <td>3</td>\n",
       "      <td>756.0</td>\n",
       "      <td>4</td>\n",
       "      <td>961</td>\n",
       "      <td>1717</td>\n",
       "      <td>...</td>\n",
       "      <td>0</td>\n",
       "      <td>0</td>\n",
       "      <td>0</td>\n",
       "      <td>1</td>\n",
       "      <td>1</td>\n",
       "      <td>0</td>\n",
       "      <td>0</td>\n",
       "      <td>0</td>\n",
       "      <td>0</td>\n",
       "      <td>0</td>\n",
       "    </tr>\n",
       "    <tr>\n",
       "      <th>4</th>\n",
       "      <td>8</td>\n",
       "      <td>2000</td>\n",
       "      <td>2000</td>\n",
       "      <td>350.0</td>\n",
       "      <td>3</td>\n",
       "      <td>4</td>\n",
       "      <td>1145.0</td>\n",
       "      <td>5</td>\n",
       "      <td>1145</td>\n",
       "      <td>2198</td>\n",
       "      <td>...</td>\n",
       "      <td>0</td>\n",
       "      <td>0</td>\n",
       "      <td>0</td>\n",
       "      <td>1</td>\n",
       "      <td>0</td>\n",
       "      <td>0</td>\n",
       "      <td>1</td>\n",
       "      <td>0</td>\n",
       "      <td>0</td>\n",
       "      <td>0</td>\n",
       "    </tr>\n",
       "  </tbody>\n",
       "</table>\n",
       "<p>5 rows × 80 columns</p>\n",
       "</div>"
      ],
      "text/plain": [
       "   OverallQual  YearBuilt  YearRemodAdd  MasVnrArea  ExterCond  BsmtQual  \\\n",
       "0            7       2003          2003       196.0          3         4   \n",
       "1            6       1976          1976         0.0          3         4   \n",
       "2            7       2001          2002       162.0          3         4   \n",
       "3            7       1915          1970         0.0          3         3   \n",
       "4            8       2000          2000       350.0          3         4   \n",
       "\n",
       "   TotalBsmtSF  HeatingQC  FirstFlrSF  GrLivArea  ...  Fence_GdWo  \\\n",
       "0        856.0          5         856       1710  ...           0   \n",
       "1       1262.0          5        1262       1262  ...           0   \n",
       "2        920.0          5         920       1786  ...           0   \n",
       "3        756.0          4         961       1717  ...           0   \n",
       "4       1145.0          5        1145       2198  ...           0   \n",
       "\n",
       "   Fence_MnPrv  Fence_MnWw  Fence_NFe  Foundation_BrkTil  Foundation_CBlock  \\\n",
       "0            0           0          1                  0                  0   \n",
       "1            0           0          1                  0                  1   \n",
       "2            0           0          1                  0                  0   \n",
       "3            0           0          1                  1                  0   \n",
       "4            0           0          1                  0                  0   \n",
       "\n",
       "   Foundation_PConc  Foundation_Slab  Foundation_Stone  Foundation_Wood  \n",
       "0                 1                0                 0                0  \n",
       "1                 0                0                 0                0  \n",
       "2                 1                0                 0                0  \n",
       "3                 0                0                 0                0  \n",
       "4                 1                0                 0                0  \n",
       "\n",
       "[5 rows x 80 columns]"
      ]
     },
     "execution_count": 4,
     "metadata": {},
     "output_type": "execute_result"
    }
   ],
   "source": [
    "df.head()"
   ]
  },
  {
   "cell_type": "markdown",
   "metadata": {},
   "source": [
    "\n",
    "Now we will split our  dataset again to have separeted the training set with the testing set"
   ]
  },
  {
   "cell_type": "code",
   "execution_count": 5,
   "metadata": {},
   "outputs": [
    {
     "data": {
      "text/plain": [
       "Index(['OverallQual', 'YearBuilt', 'YearRemodAdd', 'MasVnrArea', 'ExterCond',\n",
       "       'BsmtQual', 'TotalBsmtSF', 'HeatingQC', 'FirstFlrSF', 'GrLivArea',\n",
       "       'FullBath', 'KitchenQual', 'TotRmsAbvGrd', 'Fireplaces', 'FireplaceQu',\n",
       "       'GarageYrBlt', 'GarageCars', 'GarageArea', 'SalePrice',\n",
       "       'MSZoning_C (all)', 'MSZoning_FV', 'MSZoning_RH', 'MSZoning_RL',\n",
       "       'MSZoning_RM', 'Neighborhood_Blmngtn', 'Neighborhood_Blueste',\n",
       "       'Neighborhood_BrDale', 'Neighborhood_BrkSide', 'Neighborhood_ClearCr',\n",
       "       'Neighborhood_CollgCr', 'Neighborhood_Crawfor', 'Neighborhood_Edwards',\n",
       "       'Neighborhood_Gilbert', 'Neighborhood_IDOTRR', 'Neighborhood_MeadowV',\n",
       "       'Neighborhood_Mitchel', 'Neighborhood_NAmes', 'Neighborhood_NPkVill',\n",
       "       'Neighborhood_NWAmes', 'Neighborhood_NoRidge', 'Neighborhood_NridgHt',\n",
       "       'Neighborhood_OldTown', 'Neighborhood_SWISU', 'Neighborhood_Sawyer',\n",
       "       'Neighborhood_SawyerW', 'Neighborhood_Somerst', 'Neighborhood_StoneBr',\n",
       "       'Neighborhood_Timber', 'Neighborhood_Veenker', 'HouseStyle_1.5Fin',\n",
       "       'HouseStyle_1.5Unf', 'HouseStyle_1Story', 'HouseStyle_2.5Fin',\n",
       "       'HouseStyle_2.5Unf', 'HouseStyle_2Story', 'HouseStyle_SFoyer',\n",
       "       'HouseStyle_SLvl', 'MasVnrType_BrkCmn', 'MasVnrType_BrkFace',\n",
       "       'MasVnrType_NMvt', 'MasVnrType_None', 'MasVnrType_Stone',\n",
       "       'Functional_Maj1', 'Functional_Maj2', 'Functional_Min1',\n",
       "       'Functional_Min2', 'Functional_Mod', 'Functional_Sev', 'Functional_Typ',\n",
       "       'Fence_GdPrv', 'Fence_GdWo', 'Fence_MnPrv', 'Fence_MnWw', 'Fence_NFe',\n",
       "       'Foundation_BrkTil', 'Foundation_CBlock', 'Foundation_PConc',\n",
       "       'Foundation_Slab', 'Foundation_Stone', 'Foundation_Wood'],\n",
       "      dtype='object')"
      ]
     },
     "execution_count": 5,
     "metadata": {},
     "output_type": "execute_result"
    }
   ],
   "source": [
    "df.columns"
   ]
  },
  {
   "cell_type": "code",
   "execution_count": 6,
   "metadata": {},
   "outputs": [],
   "source": [
    "df = df[['OverallQual', 'YearBuilt', 'YearRemodAdd', 'GrLivArea','GarageCars', 'GarageArea','SalePrice']]"
   ]
  },
  {
   "cell_type": "code",
   "execution_count": 7,
   "metadata": {},
   "outputs": [],
   "source": [
    "y = df.SalePrice\n",
    "X = df.drop(columns = 'SalePrice')"
   ]
  },
  {
   "cell_type": "code",
   "execution_count": 8,
   "metadata": {},
   "outputs": [],
   "source": [
    "X_train, X_test, y_train, y_test = train_test_split(X,y,test_size=0.20, shuffle  = True)"
   ]
  },
  {
   "cell_type": "code",
   "execution_count": 9,
   "metadata": {},
   "outputs": [
    {
     "data": {
      "text/plain": [
       "LinearRegression()"
      ]
     },
     "execution_count": 9,
     "metadata": {},
     "output_type": "execute_result"
    }
   ],
   "source": [
    "model = LinearRegression()\n",
    "model.fit(X_train, y_train)"
   ]
  },
  {
   "cell_type": "code",
   "execution_count": 10,
   "metadata": {},
   "outputs": [],
   "source": [
    "pickle.dump(model, open('model.pkl', 'wb'))"
   ]
  },
  {
   "cell_type": "code",
   "execution_count": 11,
   "metadata": {},
   "outputs": [
    {
     "data": {
      "text/plain": [
       "array([201216.22172736, 206099.6757395 , 135389.85060025, 134555.97693112,\n",
       "       104777.31582125, 106455.50412848, 162836.93070611, 122800.19924583,\n",
       "       295727.42369862, 154654.81930155, 103002.62637635, 278811.11613253,\n",
       "       172962.99385028, 110453.62334215, 158314.46808052, 157305.96743199,\n",
       "       308338.05409206, 117743.82597614, 117470.75197605, 101335.10139384,\n",
       "       276757.87892342, 192823.4053102 ,  60583.36335181,  79476.12227386,\n",
       "       185608.31060705, 146369.72818389, 117236.16796742, 213553.92334214,\n",
       "       220028.02094176,  97704.13384541,  71121.19783311, 233365.6680696 ,\n",
       "       201624.84242949, 278407.7929249 , 286732.7820168 , 202775.84703373,\n",
       "       311948.92072789, 225000.94713036, 219829.26224133, 108803.46821814,\n",
       "       215911.74379416, 186131.73066969, 100903.41076881, 152935.93614328,\n",
       "       267249.268367  , 174798.27757653, 154584.20533458,  97864.53128095,\n",
       "       101698.85201411, 265413.89858089, 136001.53917844, 266119.11168977,\n",
       "        74925.06245812, 154563.7081342 , 135116.66170093, 190479.54825576,\n",
       "       112620.89276966,  84505.7382999 , 217147.59664639, 242890.06164961,\n",
       "       137812.15318236, 294892.63615542, 147184.21845945, 215486.97913017,\n",
       "       216339.80508088, 198797.06759444, 181274.92037837, 190466.76406412,\n",
       "       206541.85469016, 261747.20950523, 226423.83626961, 253520.68121042,\n",
       "       200190.63604372, 124837.33498505, 231717.75171934, 172496.45264335,\n",
       "       194767.9773018 , 227638.91120821, 302947.31050665, 147633.28089016,\n",
       "       308552.27688064, 311298.1374108 , 201187.26099921, 225618.51764852,\n",
       "       288462.68161108, 240110.72615142, 102019.49377269, 149632.64946534,\n",
       "       214867.41499842, 211996.99013223, 146067.7293488 , 239498.025132  ,\n",
       "       150118.00216249, 207365.72419198, 337751.47901887, 219781.8549805 ,\n",
       "       279548.27039102, 164099.95796003, 205522.8882099 , 212150.64253914,\n",
       "       129375.62019893, 123035.28211289, 116581.01438567, 187986.71875347,\n",
       "       130925.11697813,  93023.46075948, 217916.44026879, 193899.92017335,\n",
       "       127837.46199126, 167185.31279466, 212114.97863321, 214018.10749496,\n",
       "       132075.90916544, 259815.32629727, 161133.24690057, 219759.96195561,\n",
       "       138932.76595486, 350648.31883868, 120928.96635076, 195780.25378319,\n",
       "       235715.81624775, 211420.54116218, 185997.81334983, 105577.47598379,\n",
       "       259222.60759381, 117074.5774076 , 175315.01603808, 177752.41825238,\n",
       "       189007.04048228, 189308.79963428, 130439.89130619, 160658.71887932,\n",
       "       117262.64378424, 286117.52766297, 280067.07541439, 279107.67282985,\n",
       "       149090.11079966, 258216.60468551, 124416.83053294, 104255.18091142,\n",
       "       205807.38526955, 192976.9249733 , 195412.49132282, 241945.18388495,\n",
       "       314401.03307967, 226877.38447555, 286083.11660574, 117887.43462457,\n",
       "        67707.78311224, 142396.25907086, 236031.5202871 , 220018.02522562,\n",
       "       135506.59236798, 196626.66827087, 179238.42531386,  76287.69531592,\n",
       "       180728.67749412, 146322.25870762, 224685.13864226, 179214.78262418,\n",
       "       179314.85359535, 260892.20831431, 105843.93107867, 193703.7756903 ,\n",
       "        92597.33857943, 166977.04356967, 268048.3278618 , 106691.61554535,\n",
       "       319329.64771851, 113079.51197565,  41916.04127566, 157701.11637374,\n",
       "       485877.1320996 , 286992.05875665, 250793.60762033, 105044.11111088,\n",
       "       221980.10406829, 241389.74141294, 221998.46746229, 309578.9698101 ,\n",
       "       195048.70037063, 117312.3119275 , 190770.08311423,  85977.72045368,\n",
       "       191911.04430047, 246836.79958785, 198557.63140174, 216859.35475392,\n",
       "       144074.09379619, 142656.45412025, 186677.3059644 , 106709.4441028 ,\n",
       "       176773.16413374, 108730.90891773, 125616.62163573, 161555.24693455,\n",
       "       251581.62156946, 215915.79006254, 189162.33082794, 104834.81994605,\n",
       "       203204.59510626, 152735.08610612, 265077.1332781 , 196965.58683309,\n",
       "       204334.6836429 , 151059.56782467, 126831.98621629,  56377.74823644,\n",
       "       176344.88483029, 265902.74293749, 146975.00087604, 102528.29848137,\n",
       "       135358.18903048, 288970.42503324, 116743.70886067, 199301.30358418,\n",
       "       167214.03691131,  91238.84259791, 110347.90065064, 251857.09253504,\n",
       "       165208.71415723, 150435.39802122, 136170.80346948, 124357.02553606,\n",
       "       256877.5806722 , 141146.93923803, 237127.68373513, 231120.92457377,\n",
       "       132869.45360364, 225050.6766567 , 107646.25067161, 184381.02085439,\n",
       "       210106.25273967, 149206.06904258, 218672.79449093, 128262.93536776,\n",
       "       131686.01499592, 207137.61076944, 300379.03131687, 144690.84770456,\n",
       "       135246.16565127, 172564.92322331, 211303.86377268, 301439.50601886,\n",
       "       160642.07459927, 330267.80902226, 239280.25753544, 276066.9118645 ,\n",
       "       211984.53995209, 182829.29394325, 149206.06904258, 270942.68542558,\n",
       "       215001.02746478, 102553.23355146, 192938.18371841, 138968.74318347,\n",
       "        78802.34986327, 105273.59103257, 143223.8732497 , 183202.52506393,\n",
       "       135513.42117739, 152106.21627774, 258656.6971684 , 172616.93966291,\n",
       "       181547.28412069, 106070.47681766, 298654.70984431, 293914.79781141,\n",
       "       202695.31139558, 263892.75043566,  44130.37631328, 143381.88541925,\n",
       "       144889.74328658, 335729.26103949, 108653.95847309, 162003.58397431,\n",
       "       138346.69975244, 231648.29824523, 203183.13360346, 117515.73049651,\n",
       "       345105.43309917, 240912.32317574, 130241.31192288, 228408.90145202,\n",
       "       158212.95110129, 132428.68795741, 106629.6589936 , 298254.3938913 ,\n",
       "       148838.19398142, 165252.02479573, 193200.3148579 , 282808.58455411])"
      ]
     },
     "execution_count": 11,
     "metadata": {},
     "output_type": "execute_result"
    }
   ],
   "source": [
    "y_prediction = model.predict(X_test)\n",
    "y_prediction"
   ]
  },
  {
   "cell_type": "code",
   "execution_count": 12,
   "metadata": {},
   "outputs": [
    {
     "data": {
      "text/plain": [
       "1751397981.5652635"
      ]
     },
     "execution_count": 12,
     "metadata": {},
     "output_type": "execute_result"
    }
   ],
   "source": [
    "mean_squared_error(y_test, y_prediction)"
   ]
  },
  {
   "cell_type": "code",
   "execution_count": 13,
   "metadata": {},
   "outputs": [
    {
     "data": {
      "text/plain": [
       "0.6858277041535404"
      ]
     },
     "execution_count": 13,
     "metadata": {},
     "output_type": "execute_result"
    }
   ],
   "source": [
    "r2_score(y_test, y_prediction)"
   ]
  }
 ],
 "metadata": {
  "kernelspec": {
   "display_name": "mlenv",
   "language": "python",
   "name": "mlenv"
  },
  "language_info": {
   "codemirror_mode": {
    "name": "ipython",
    "version": 3
   },
   "file_extension": ".py",
   "mimetype": "text/x-python",
   "name": "python",
   "nbconvert_exporter": "python",
   "pygments_lexer": "ipython3",
   "version": "3.7.11"
  }
 },
 "nbformat": 4,
 "nbformat_minor": 5
}
